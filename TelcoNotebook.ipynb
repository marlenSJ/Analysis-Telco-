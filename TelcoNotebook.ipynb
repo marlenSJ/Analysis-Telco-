{
 "cells": [
  {
   "cell_type": "code",
   "execution_count": 3,
   "id": "adult-thermal",
   "metadata": {},
   "outputs": [],
   "source": [
    "import datetime as dt\n",
    "import pandas as pd\n",
    "import numpy as np\n",
    "from sklearn.preprocessing import OneHotEncoder\n",
    "from pandas_profiling import ProfileReport\n",
    "from sklearn.tree import DecisionTreeClassifier, plot_tree\n",
    "\n",
    "import seaborn as sns\n",
    "import matplotlib.pyplot as plt\n",
    "import matplotlib.ticker as tkr\n",
    "\n",
    "from sklearn.model_selection import train_test_split\n",
    "from sklearn.tree import DecisionTreeClassifier\n",
    "import matplotlib.pyplot as plt"
   ]
  },
  {
   "cell_type": "markdown",
   "id": "adolescent-mandate",
   "metadata": {},
   "source": [
    "# Telco Customer Churn Analysis"
   ]
  },
  {
   "cell_type": "markdown",
   "id": "possible-atlantic",
   "metadata": {},
   "source": [
    "# Content\n",
    "****\n",
    "+ [Background](#Background)\n",
    "\n",
    "+ [Introductory Questions](#Introductory-Questions)\n",
    "+ [Preprocessing](#Preprocessing)\n",
    "+ [One Hot Encoding](#One-Hot-Encoding)\n",
    "+ [Data Profiling](#Data-Profiling)\n",
    "+ [EDA](#EDA)\n",
    "    + [Churn](#Churn)\n",
    "    + [Total Charges](#Total-Charges)\n",
    "    + [Monthly Charges](#Monthly-Charges)\n",
    "    + [Payment Method](Payment-Method)\n",
    "+[Model](#Model)\n",
    "    + [First model](#First-model)\n",
    "        + [Results](#Results)\n",
    "    + [Second model](#Second-model)\n",
    "        + [Data Leakage](#Data-Leakage)\n",
    "        + [Results second model](#Results-second-model)\n",
    "+ [Performance metrics](#Performance-metrics)\n",
    "    + [ROC and AUC](#ROC-and-AUC)\n",
    "    + [Precision and recall](#Precision-and-recall)\n",
    "    + [Metrics report](#metrics-report)\n",
    "    + [Confusion matrix](#Confusion-matrix)"
   ]
  },
  {
   "cell_type": "markdown",
   "id": "instructional-arbor",
   "metadata": {},
   "source": [
    "## Background\n",
    "\n",
    "\n",
    "We were provided with data from Telco (telecomunication company) that contains characteristics of their clients. Each row represents a customer and each customer has the following information:\n",
    "\n",
    "* Customers who left the company -churn-\n",
    "* Services that each client requested: telephone, multiple lines, internet, online security, online backup, device protection, technical support, TV streaming, movies.\n",
    "* Customer account information: How long have you been a customer (tenure), contract type, payment method, paperless statement, monthly charges, total charges.\n",
    "* Demographic information of the clients: gender, age range, if they have a partner and dependents.\n",
    "\n",
    "\n",
    "[Content](#Content)\n"
   ]
  },
  {
   "cell_type": "code",
   "execution_count": 4,
   "id": "married-salvation",
   "metadata": {},
   "outputs": [],
   "source": [
    "telco = pd.read_csv (r'C:\\Users\\62san\\Documents\\HumanCentDC\\Telco-Customer-Churn.csv')"
   ]
  },
  {
   "cell_type": "code",
   "execution_count": 5,
   "id": "incomplete-statement",
   "metadata": {},
   "outputs": [
    {
     "data": {
      "text/html": [
       "<div>\n",
       "<style scoped>\n",
       "    .dataframe tbody tr th:only-of-type {\n",
       "        vertical-align: middle;\n",
       "    }\n",
       "\n",
       "    .dataframe tbody tr th {\n",
       "        vertical-align: top;\n",
       "    }\n",
       "\n",
       "    .dataframe thead th {\n",
       "        text-align: right;\n",
       "    }\n",
       "</style>\n",
       "<table border=\"1\" class=\"dataframe\">\n",
       "  <thead>\n",
       "    <tr style=\"text-align: right;\">\n",
       "      <th></th>\n",
       "      <th>customerID</th>\n",
       "      <th>gender</th>\n",
       "      <th>SeniorCitizen</th>\n",
       "      <th>Partner</th>\n",
       "      <th>Dependents</th>\n",
       "      <th>tenure</th>\n",
       "      <th>PhoneService</th>\n",
       "      <th>MultipleLines</th>\n",
       "      <th>InternetService</th>\n",
       "      <th>OnlineSecurity</th>\n",
       "      <th>...</th>\n",
       "      <th>DeviceProtection</th>\n",
       "      <th>TechSupport</th>\n",
       "      <th>StreamingTV</th>\n",
       "      <th>StreamingMovies</th>\n",
       "      <th>Contract</th>\n",
       "      <th>PaperlessBilling</th>\n",
       "      <th>PaymentMethod</th>\n",
       "      <th>MonthlyCharges</th>\n",
       "      <th>TotalCharges</th>\n",
       "      <th>Churn</th>\n",
       "    </tr>\n",
       "  </thead>\n",
       "  <tbody>\n",
       "    <tr>\n",
       "      <th>0</th>\n",
       "      <td>7590-VHVEG</td>\n",
       "      <td>Female</td>\n",
       "      <td>0</td>\n",
       "      <td>Yes</td>\n",
       "      <td>No</td>\n",
       "      <td>1</td>\n",
       "      <td>No</td>\n",
       "      <td>No phone service</td>\n",
       "      <td>DSL</td>\n",
       "      <td>No</td>\n",
       "      <td>...</td>\n",
       "      <td>No</td>\n",
       "      <td>No</td>\n",
       "      <td>No</td>\n",
       "      <td>No</td>\n",
       "      <td>Month-to-month</td>\n",
       "      <td>Yes</td>\n",
       "      <td>Electronic check</td>\n",
       "      <td>29.85</td>\n",
       "      <td>29.85</td>\n",
       "      <td>No</td>\n",
       "    </tr>\n",
       "    <tr>\n",
       "      <th>1</th>\n",
       "      <td>5575-GNVDE</td>\n",
       "      <td>Male</td>\n",
       "      <td>0</td>\n",
       "      <td>No</td>\n",
       "      <td>No</td>\n",
       "      <td>34</td>\n",
       "      <td>Yes</td>\n",
       "      <td>No</td>\n",
       "      <td>DSL</td>\n",
       "      <td>Yes</td>\n",
       "      <td>...</td>\n",
       "      <td>Yes</td>\n",
       "      <td>No</td>\n",
       "      <td>No</td>\n",
       "      <td>No</td>\n",
       "      <td>One year</td>\n",
       "      <td>No</td>\n",
       "      <td>Mailed check</td>\n",
       "      <td>56.95</td>\n",
       "      <td>1889.5</td>\n",
       "      <td>No</td>\n",
       "    </tr>\n",
       "    <tr>\n",
       "      <th>2</th>\n",
       "      <td>3668-QPYBK</td>\n",
       "      <td>Male</td>\n",
       "      <td>0</td>\n",
       "      <td>No</td>\n",
       "      <td>No</td>\n",
       "      <td>2</td>\n",
       "      <td>Yes</td>\n",
       "      <td>No</td>\n",
       "      <td>DSL</td>\n",
       "      <td>Yes</td>\n",
       "      <td>...</td>\n",
       "      <td>No</td>\n",
       "      <td>No</td>\n",
       "      <td>No</td>\n",
       "      <td>No</td>\n",
       "      <td>Month-to-month</td>\n",
       "      <td>Yes</td>\n",
       "      <td>Mailed check</td>\n",
       "      <td>53.85</td>\n",
       "      <td>108.15</td>\n",
       "      <td>Yes</td>\n",
       "    </tr>\n",
       "    <tr>\n",
       "      <th>3</th>\n",
       "      <td>7795-CFOCW</td>\n",
       "      <td>Male</td>\n",
       "      <td>0</td>\n",
       "      <td>No</td>\n",
       "      <td>No</td>\n",
       "      <td>45</td>\n",
       "      <td>No</td>\n",
       "      <td>No phone service</td>\n",
       "      <td>DSL</td>\n",
       "      <td>Yes</td>\n",
       "      <td>...</td>\n",
       "      <td>Yes</td>\n",
       "      <td>Yes</td>\n",
       "      <td>No</td>\n",
       "      <td>No</td>\n",
       "      <td>One year</td>\n",
       "      <td>No</td>\n",
       "      <td>Bank transfer (automatic)</td>\n",
       "      <td>42.30</td>\n",
       "      <td>1840.75</td>\n",
       "      <td>No</td>\n",
       "    </tr>\n",
       "    <tr>\n",
       "      <th>4</th>\n",
       "      <td>9237-HQITU</td>\n",
       "      <td>Female</td>\n",
       "      <td>0</td>\n",
       "      <td>No</td>\n",
       "      <td>No</td>\n",
       "      <td>2</td>\n",
       "      <td>Yes</td>\n",
       "      <td>No</td>\n",
       "      <td>Fiber optic</td>\n",
       "      <td>No</td>\n",
       "      <td>...</td>\n",
       "      <td>No</td>\n",
       "      <td>No</td>\n",
       "      <td>No</td>\n",
       "      <td>No</td>\n",
       "      <td>Month-to-month</td>\n",
       "      <td>Yes</td>\n",
       "      <td>Electronic check</td>\n",
       "      <td>70.70</td>\n",
       "      <td>151.65</td>\n",
       "      <td>Yes</td>\n",
       "    </tr>\n",
       "    <tr>\n",
       "      <th>...</th>\n",
       "      <td>...</td>\n",
       "      <td>...</td>\n",
       "      <td>...</td>\n",
       "      <td>...</td>\n",
       "      <td>...</td>\n",
       "      <td>...</td>\n",
       "      <td>...</td>\n",
       "      <td>...</td>\n",
       "      <td>...</td>\n",
       "      <td>...</td>\n",
       "      <td>...</td>\n",
       "      <td>...</td>\n",
       "      <td>...</td>\n",
       "      <td>...</td>\n",
       "      <td>...</td>\n",
       "      <td>...</td>\n",
       "      <td>...</td>\n",
       "      <td>...</td>\n",
       "      <td>...</td>\n",
       "      <td>...</td>\n",
       "      <td>...</td>\n",
       "    </tr>\n",
       "    <tr>\n",
       "      <th>7038</th>\n",
       "      <td>6840-RESVB</td>\n",
       "      <td>Male</td>\n",
       "      <td>0</td>\n",
       "      <td>Yes</td>\n",
       "      <td>Yes</td>\n",
       "      <td>24</td>\n",
       "      <td>Yes</td>\n",
       "      <td>Yes</td>\n",
       "      <td>DSL</td>\n",
       "      <td>Yes</td>\n",
       "      <td>...</td>\n",
       "      <td>Yes</td>\n",
       "      <td>Yes</td>\n",
       "      <td>Yes</td>\n",
       "      <td>Yes</td>\n",
       "      <td>One year</td>\n",
       "      <td>Yes</td>\n",
       "      <td>Mailed check</td>\n",
       "      <td>84.80</td>\n",
       "      <td>1990.5</td>\n",
       "      <td>No</td>\n",
       "    </tr>\n",
       "    <tr>\n",
       "      <th>7039</th>\n",
       "      <td>2234-XADUH</td>\n",
       "      <td>Female</td>\n",
       "      <td>0</td>\n",
       "      <td>Yes</td>\n",
       "      <td>Yes</td>\n",
       "      <td>72</td>\n",
       "      <td>Yes</td>\n",
       "      <td>Yes</td>\n",
       "      <td>Fiber optic</td>\n",
       "      <td>No</td>\n",
       "      <td>...</td>\n",
       "      <td>Yes</td>\n",
       "      <td>No</td>\n",
       "      <td>Yes</td>\n",
       "      <td>Yes</td>\n",
       "      <td>One year</td>\n",
       "      <td>Yes</td>\n",
       "      <td>Credit card (automatic)</td>\n",
       "      <td>103.20</td>\n",
       "      <td>7362.9</td>\n",
       "      <td>No</td>\n",
       "    </tr>\n",
       "    <tr>\n",
       "      <th>7040</th>\n",
       "      <td>4801-JZAZL</td>\n",
       "      <td>Female</td>\n",
       "      <td>0</td>\n",
       "      <td>Yes</td>\n",
       "      <td>Yes</td>\n",
       "      <td>11</td>\n",
       "      <td>No</td>\n",
       "      <td>No phone service</td>\n",
       "      <td>DSL</td>\n",
       "      <td>Yes</td>\n",
       "      <td>...</td>\n",
       "      <td>No</td>\n",
       "      <td>No</td>\n",
       "      <td>No</td>\n",
       "      <td>No</td>\n",
       "      <td>Month-to-month</td>\n",
       "      <td>Yes</td>\n",
       "      <td>Electronic check</td>\n",
       "      <td>29.60</td>\n",
       "      <td>346.45</td>\n",
       "      <td>No</td>\n",
       "    </tr>\n",
       "    <tr>\n",
       "      <th>7041</th>\n",
       "      <td>8361-LTMKD</td>\n",
       "      <td>Male</td>\n",
       "      <td>1</td>\n",
       "      <td>Yes</td>\n",
       "      <td>No</td>\n",
       "      <td>4</td>\n",
       "      <td>Yes</td>\n",
       "      <td>Yes</td>\n",
       "      <td>Fiber optic</td>\n",
       "      <td>No</td>\n",
       "      <td>...</td>\n",
       "      <td>No</td>\n",
       "      <td>No</td>\n",
       "      <td>No</td>\n",
       "      <td>No</td>\n",
       "      <td>Month-to-month</td>\n",
       "      <td>Yes</td>\n",
       "      <td>Mailed check</td>\n",
       "      <td>74.40</td>\n",
       "      <td>306.6</td>\n",
       "      <td>Yes</td>\n",
       "    </tr>\n",
       "    <tr>\n",
       "      <th>7042</th>\n",
       "      <td>3186-AJIEK</td>\n",
       "      <td>Male</td>\n",
       "      <td>0</td>\n",
       "      <td>No</td>\n",
       "      <td>No</td>\n",
       "      <td>66</td>\n",
       "      <td>Yes</td>\n",
       "      <td>No</td>\n",
       "      <td>Fiber optic</td>\n",
       "      <td>Yes</td>\n",
       "      <td>...</td>\n",
       "      <td>Yes</td>\n",
       "      <td>Yes</td>\n",
       "      <td>Yes</td>\n",
       "      <td>Yes</td>\n",
       "      <td>Two year</td>\n",
       "      <td>Yes</td>\n",
       "      <td>Bank transfer (automatic)</td>\n",
       "      <td>105.65</td>\n",
       "      <td>6844.5</td>\n",
       "      <td>No</td>\n",
       "    </tr>\n",
       "  </tbody>\n",
       "</table>\n",
       "<p>7043 rows × 21 columns</p>\n",
       "</div>"
      ],
      "text/plain": [
       "      customerID  gender  SeniorCitizen Partner Dependents  tenure  \\\n",
       "0     7590-VHVEG  Female              0     Yes         No       1   \n",
       "1     5575-GNVDE    Male              0      No         No      34   \n",
       "2     3668-QPYBK    Male              0      No         No       2   \n",
       "3     7795-CFOCW    Male              0      No         No      45   \n",
       "4     9237-HQITU  Female              0      No         No       2   \n",
       "...          ...     ...            ...     ...        ...     ...   \n",
       "7038  6840-RESVB    Male              0     Yes        Yes      24   \n",
       "7039  2234-XADUH  Female              0     Yes        Yes      72   \n",
       "7040  4801-JZAZL  Female              0     Yes        Yes      11   \n",
       "7041  8361-LTMKD    Male              1     Yes         No       4   \n",
       "7042  3186-AJIEK    Male              0      No         No      66   \n",
       "\n",
       "     PhoneService     MultipleLines InternetService OnlineSecurity  ...  \\\n",
       "0              No  No phone service             DSL             No  ...   \n",
       "1             Yes                No             DSL            Yes  ...   \n",
       "2             Yes                No             DSL            Yes  ...   \n",
       "3              No  No phone service             DSL            Yes  ...   \n",
       "4             Yes                No     Fiber optic             No  ...   \n",
       "...           ...               ...             ...            ...  ...   \n",
       "7038          Yes               Yes             DSL            Yes  ...   \n",
       "7039          Yes               Yes     Fiber optic             No  ...   \n",
       "7040           No  No phone service             DSL            Yes  ...   \n",
       "7041          Yes               Yes     Fiber optic             No  ...   \n",
       "7042          Yes                No     Fiber optic            Yes  ...   \n",
       "\n",
       "     DeviceProtection TechSupport StreamingTV StreamingMovies        Contract  \\\n",
       "0                  No          No          No              No  Month-to-month   \n",
       "1                 Yes          No          No              No        One year   \n",
       "2                  No          No          No              No  Month-to-month   \n",
       "3                 Yes         Yes          No              No        One year   \n",
       "4                  No          No          No              No  Month-to-month   \n",
       "...               ...         ...         ...             ...             ...   \n",
       "7038              Yes         Yes         Yes             Yes        One year   \n",
       "7039              Yes          No         Yes             Yes        One year   \n",
       "7040               No          No          No              No  Month-to-month   \n",
       "7041               No          No          No              No  Month-to-month   \n",
       "7042              Yes         Yes         Yes             Yes        Two year   \n",
       "\n",
       "     PaperlessBilling              PaymentMethod MonthlyCharges  TotalCharges  \\\n",
       "0                 Yes           Electronic check          29.85         29.85   \n",
       "1                  No               Mailed check          56.95        1889.5   \n",
       "2                 Yes               Mailed check          53.85        108.15   \n",
       "3                  No  Bank transfer (automatic)          42.30       1840.75   \n",
       "4                 Yes           Electronic check          70.70        151.65   \n",
       "...               ...                        ...            ...           ...   \n",
       "7038              Yes               Mailed check          84.80        1990.5   \n",
       "7039              Yes    Credit card (automatic)         103.20        7362.9   \n",
       "7040              Yes           Electronic check          29.60        346.45   \n",
       "7041              Yes               Mailed check          74.40         306.6   \n",
       "7042              Yes  Bank transfer (automatic)         105.65        6844.5   \n",
       "\n",
       "     Churn  \n",
       "0       No  \n",
       "1       No  \n",
       "2      Yes  \n",
       "3       No  \n",
       "4      Yes  \n",
       "...    ...  \n",
       "7038    No  \n",
       "7039    No  \n",
       "7040    No  \n",
       "7041   Yes  \n",
       "7042    No  \n",
       "\n",
       "[7043 rows x 21 columns]"
      ]
     },
     "execution_count": 5,
     "metadata": {},
     "output_type": "execute_result"
    }
   ],
   "source": [
    "telco"
   ]
  },
  {
   "cell_type": "markdown",
   "id": "ongoing-crowd",
   "metadata": {},
   "source": [
    "* Convierte los nombres de columnas a minúsculas"
   ]
  },
  {
   "cell_type": "code",
   "execution_count": 6,
   "id": "alone-durham",
   "metadata": {},
   "outputs": [],
   "source": [
    "def clean_column_names(df):\n",
    "    cols = {col_name: col_name.lower() for col_name in df.columns.values}\n",
    "    return df.rename(columns=cols, inplace=True)"
   ]
  },
  {
   "cell_type": "code",
   "execution_count": 7,
   "id": "moral-philosophy",
   "metadata": {},
   "outputs": [],
   "source": [
    "clean_column_names(telco)"
   ]
  },
  {
   "cell_type": "code",
   "execution_count": 8,
   "id": "transsexual-feature",
   "metadata": {},
   "outputs": [
    {
     "data": {
      "text/plain": [
       "Index(['customerid', 'gender', 'seniorcitizen', 'partner', 'dependents',\n",
       "       'tenure', 'phoneservice', 'multiplelines', 'internetservice',\n",
       "       'onlinesecurity', 'onlinebackup', 'deviceprotection', 'techsupport',\n",
       "       'streamingtv', 'streamingmovies', 'contract', 'paperlessbilling',\n",
       "       'paymentmethod', 'monthlycharges', 'totalcharges', 'churn'],\n",
       "      dtype='object')"
      ]
     },
     "execution_count": 8,
     "metadata": {},
     "output_type": "execute_result"
    }
   ],
   "source": [
    "telco.columns"
   ]
  },
  {
   "cell_type": "markdown",
   "id": "increased-problem",
   "metadata": {},
   "source": [
    "## Introductory Questions \n",
    "\n",
    "1.\tWhat is the target variable?\n",
    "\n",
    "    Churn (positive observations)\n",
    "\n",
    "2.\tIn this case, what’s a TP, TN, FP, and FN??\n",
    "\n",
    "    TP: The model says that the customer leaves the company and indeed the customer leaves.\n",
    "    TN: The model says that the customer does not leave the company and indeed, the customer continues paying the service (does not churn).\n",
    "    FP: The model says that the client churns, but actually the client continues with the company.\n",
    "    FN: The model says that the customer does not leave the company, but actually the customer churn.\n",
    "\n",
    "\n",
    "3.\tHow should we optimize our model? Should we minimize FP or FN?\n",
    "\n",
    "    We must minimize False Negatives (predict_churn = Negative vs actual_churn = Positive). This implies that we are accepting more FP (predict_churn = Positive vs actual_churn = Negative).\n",
    "\n",
    "    Since Telco wants to predict whether or not a customer will churn, the company must aim to implement a strategy to retain those customers who may think of stop paying its services. Since these types of retention strategies are implemented in steps that do not use many resources at once (for example, a questionnaire is usually sent to assess the customer's compliance, before giving personalized service), it should be prioritized to attend to the more than customers who do intend to churn (TP), even if it means sending a questionnaire as a first approach to a customer who does not intend to churn (FP). This means that having FP  presents us with a lower opportunity cost than having FN (due to the resources used in the first approach).\n",
    "\n",
    "\n",
    "4. What is the metric that we should optimize according to the previous question?\n",
    "\n",
    "    To optimize the performance of the model we will be using the Recall metric. In this way we will try to obtain the largest amount of TP of the entire universe of data.\n",
    "\n",
    "[Content](#Content)"
   ]
  },
  {
   "cell_type": "markdown",
   "id": "level-seventh",
   "metadata": {},
   "source": [
    "## Preprocessing\n",
    "\n",
    "In this section we are going to make some previous steps to acomplish the following objectives later:\n",
    "\n",
    "  + To change the variables `gender`, `seniorcitizen`, `partner`, `phoneservice`, `paperlessbilling` and `churn`  to binary variables ('no' = 0 and 'yes' = 1)\n",
    "  + To transform the following variables using one hot encoding: `multiplelines`, `internetservice`, `onlinesecurity`, `onlinebackup`, `deviceprotection`, `techsupport`, `streamingtv`, `streamingmovies`, `contract`, `paymentmethod`.\n",
    "  \n",
    "Let's start by printing the types of our variables and shape of our dataset:"
   ]
  },
  {
   "cell_type": "code",
   "execution_count": 9,
   "id": "bored-lyric",
   "metadata": {},
   "outputs": [
    {
     "name": "stdout",
     "output_type": "stream",
     "text": [
      "customerid           object\n",
      "gender               object\n",
      "seniorcitizen         int64\n",
      "partner              object\n",
      "dependents           object\n",
      "tenure                int64\n",
      "phoneservice         object\n",
      "multiplelines        object\n",
      "internetservice      object\n",
      "onlinesecurity       object\n",
      "onlinebackup         object\n",
      "deviceprotection     object\n",
      "techsupport          object\n",
      "streamingtv          object\n",
      "streamingmovies      object\n",
      "contract             object\n",
      "paperlessbilling     object\n",
      "paymentmethod        object\n",
      "monthlycharges      float64\n",
      "totalcharges         object\n",
      "churn                object\n",
      "dtype: object\n",
      "(7043, 21)\n"
     ]
    }
   ],
   "source": [
    "print(telco.dtypes)\n",
    "print(telco.shape)"
   ]
  },
  {
   "cell_type": "markdown",
   "id": "54ddefed",
   "metadata": {},
   "source": [
    "We can see that totalcharges appears as type object when it should be float, this may be due to the column having empty cells.\n",
    "To remove empty cells we replace the spaces with nan values and then remove them."
   ]
  },
  {
   "cell_type": "code",
   "execution_count": 10,
   "id": "creative-citation",
   "metadata": {},
   "outputs": [
    {
     "data": {
      "text/plain": [
       "(7032, 21)"
      ]
     },
     "execution_count": 10,
     "metadata": {},
     "output_type": "execute_result"
    }
   ],
   "source": [
    "telco.replace(' ', np.nan, inplace=True)\n",
    "telco.dropna(inplace=True)\n",
    "telco.reset_index(drop=True, inplace=True)\n",
    "telco.shape"
   ]
  },
  {
   "cell_type": "markdown",
   "id": "0e04675d",
   "metadata": {},
   "source": [
    "As we can see, the number of rows was reduced since it got rid of the empty values. Our next step is to change the type of these variables to make preprocessing faster."
   ]
  },
  {
   "cell_type": "code",
   "execution_count": 11,
   "id": "turned-tuner",
   "metadata": {},
   "outputs": [
    {
     "data": {
      "text/plain": [
       "customerid          category\n",
       "gender                object\n",
       "seniorcitizen          int64\n",
       "partner               object\n",
       "dependents            object\n",
       "tenure                 int64\n",
       "phoneservice          object\n",
       "multiplelines         object\n",
       "internetservice       object\n",
       "onlinesecurity        object\n",
       "onlinebackup          object\n",
       "deviceprotection      object\n",
       "techsupport           object\n",
       "streamingtv           object\n",
       "streamingmovies       object\n",
       "contract              object\n",
       "paperlessbilling      object\n",
       "paymentmethod         object\n",
       "monthlycharges       float64\n",
       "totalcharges         float64\n",
       "churn                 object\n",
       "dtype: object"
      ]
     },
     "execution_count": 11,
     "metadata": {},
     "output_type": "execute_result"
    }
   ],
   "source": [
    "telco.totalcharges = telco.totalcharges.astype(float)\n",
    "telco.customerid = telco.customerid.astype('category')\n",
    "telco.dtypes "
   ]
  },
  {
   "cell_type": "markdown",
   "id": "scheduled-petersburg",
   "metadata": {},
   "source": [
    "## Data Profiling"
   ]
  },
  {
   "cell_type": "markdown",
   "id": "887f3fcc",
   "metadata": {},
   "source": [
    "We can summarize our data set in an independent report (see output.html) using the following code:"
   ]
  },
  {
   "cell_type": "code",
   "execution_count": 36,
   "id": "satisfied-battle",
   "metadata": {},
   "outputs": [
    {
     "data": {
      "application/vnd.jupyter.widget-view+json": {
       "model_id": "f184b3d969d643d690a6323441238357",
       "version_major": 2,
       "version_minor": 0
      },
      "text/plain": [
       "Summarize dataset:   0%|          | 0/5 [00:00<?, ?it/s]"
      ]
     },
     "metadata": {},
     "output_type": "display_data"
    },
    {
     "data": {
      "application/vnd.jupyter.widget-view+json": {
       "model_id": "e7f35304a42947248eea8efbb2c7dbde",
       "version_major": 2,
       "version_minor": 0
      },
      "text/plain": [
       "Generate report structure:   0%|          | 0/1 [00:00<?, ?it/s]"
      ]
     },
     "metadata": {},
     "output_type": "display_data"
    },
    {
     "data": {
      "application/vnd.jupyter.widget-view+json": {
       "model_id": "304da9c75a4c4fb588ab01f85db4682e",
       "version_major": 2,
       "version_minor": 0
      },
      "text/plain": [
       "Render HTML:   0%|          | 0/1 [00:00<?, ?it/s]"
      ]
     },
     "metadata": {},
     "output_type": "display_data"
    },
    {
     "data": {
      "application/vnd.jupyter.widget-view+json": {
       "model_id": "f0b1f5eda37a4a59a8cd424f38fe443e",
       "version_major": 2,
       "version_minor": 0
      },
      "text/plain": [
       "Export report to file:   0%|          | 0/1 [00:00<?, ?it/s]"
      ]
     },
     "metadata": {},
     "output_type": "display_data"
    }
   ],
   "source": [
    "dataprof = telco[['tenure','monthlycharges','totalcharges', 'contract']].copy()\n",
    "profile = ProfileReport(dataprof, title=\"Data Profiling Report\", minimal=True)\n",
    "profile.to_file(output_file=\"output.html\")"
   ]
  },
  {
   "cell_type": "code",
   "execution_count": 1,
   "id": "8824f3a7",
   "metadata": {},
   "outputs": [
    {
     "ename": "SyntaxError",
     "evalue": "invalid syntax (746955031.py, line 1)",
     "output_type": "error",
     "traceback": [
      "\u001b[1;36m  Input \u001b[1;32mIn [1]\u001b[1;36m\u001b[0m\n\u001b[1;33m    Also, we can generate a correlation matrix:\u001b[0m\n\u001b[1;37m             ^\u001b[0m\n\u001b[1;31mSyntaxError\u001b[0m\u001b[1;31m:\u001b[0m invalid syntax\n"
     ]
    }
   ],
   "source": [
    "Also, we can generate a correlation matrix:"
   ]
  },
  {
   "cell_type": "code",
   "execution_count": 15,
   "id": "transsexual-hospital",
   "metadata": {},
   "outputs": [
    {
     "name": "stderr",
     "output_type": "stream",
     "text": [
      "<ipython-input-15-e562880df661>:3: SettingWithCopyWarning: \n",
      "A value is trying to be set on a copy of a slice from a DataFrame.\n",
      "Try using .loc[row_indexer,col_indexer] = value instead\n",
      "\n",
      "See the caveats in the documentation: https://pandas.pydata.org/pandas-docs/stable/user_guide/indexing.html#returning-a-view-versus-a-copy\n",
      "  telco_aux[i] = telco_aux.contract == i\n"
     ]
    },
    {
     "data": {
      "text/html": [
       "<div>\n",
       "<style scoped>\n",
       "    .dataframe tbody tr th:only-of-type {\n",
       "        vertical-align: middle;\n",
       "    }\n",
       "\n",
       "    .dataframe tbody tr th {\n",
       "        vertical-align: top;\n",
       "    }\n",
       "\n",
       "    .dataframe thead th {\n",
       "        text-align: right;\n",
       "    }\n",
       "</style>\n",
       "<table border=\"1\" class=\"dataframe\">\n",
       "  <thead>\n",
       "    <tr style=\"text-align: right;\">\n",
       "      <th></th>\n",
       "      <th>totalcharges</th>\n",
       "      <th>Month-to-month</th>\n",
       "      <th>One year</th>\n",
       "      <th>Two year</th>\n",
       "    </tr>\n",
       "  </thead>\n",
       "  <tbody>\n",
       "    <tr>\n",
       "      <th>totalcharges</th>\n",
       "      <td>1.000000</td>\n",
       "      <td>-0.446776</td>\n",
       "      <td>0.170569</td>\n",
       "      <td>0.358036</td>\n",
       "    </tr>\n",
       "    <tr>\n",
       "      <th>Month-to-month</th>\n",
       "      <td>-0.446776</td>\n",
       "      <td>1.000000</td>\n",
       "      <td>-0.570053</td>\n",
       "      <td>-0.621933</td>\n",
       "    </tr>\n",
       "    <tr>\n",
       "      <th>One year</th>\n",
       "      <td>0.170569</td>\n",
       "      <td>-0.570053</td>\n",
       "      <td>1.000000</td>\n",
       "      <td>-0.288843</td>\n",
       "    </tr>\n",
       "    <tr>\n",
       "      <th>Two year</th>\n",
       "      <td>0.358036</td>\n",
       "      <td>-0.621933</td>\n",
       "      <td>-0.288843</td>\n",
       "      <td>1.000000</td>\n",
       "    </tr>\n",
       "  </tbody>\n",
       "</table>\n",
       "</div>"
      ],
      "text/plain": [
       "                totalcharges  Month-to-month  One year  Two year\n",
       "totalcharges        1.000000       -0.446776  0.170569  0.358036\n",
       "Month-to-month     -0.446776        1.000000 -0.570053 -0.621933\n",
       "One year            0.170569       -0.570053  1.000000 -0.288843\n",
       "Two year            0.358036       -0.621933 -0.288843  1.000000"
      ]
     },
     "execution_count": 15,
     "metadata": {},
     "output_type": "execute_result"
    }
   ],
   "source": [
    "telco_aux= telco[['totalcharges','contract']]\n",
    "for i in telco_aux.contract.astype('category'):\n",
    "    telco_aux[i] = telco_aux.contract == i\n",
    "    \n",
    "telco_aux.corr()"
   ]
  },
  {
   "cell_type": "markdown",
   "id": "angry-episode",
   "metadata": {},
   "source": [
    "#### Observations\n",
    "\n",
    "From the data profiling we observe the following:\n",
    "\n",
    "+ There is information for both variables of 7,032 clients.\n",
    "\n",
    "\n",
    "+ The `totalcharges` variable is numeric.\n",
    "\n",
    "        -It takes values from 18.8 (corresponds to a 1-year contract and is not churn) to 8,684.8 (corresponds to a 1-year contract and is churn).\n",
    "        - Has a mean of 2,283.30.\n",
    "        - There are 4,388 clients whose total charges remain below the average, that is, 62.40% of the total clients consume less than 2,283.30 total charges.\n",
    "        -The median is 1,397.475 in total charges.\n",
    "        -The median is less than the mean; that is, the distribution of `totalcharges` is skewed to the right.\n",
    "        \n",
    "+ The `contract` variable is categorical and is divided into: `Month-to-month`, `Two year` and `One year`.\n",
    "\n",
    "        - 55.11% of clients have a month-to-month contract.\n",
    "        - 23.97% have a 2-year contract.\n",
    "        - 20.93% have a 1-year contract.\n",
    "        \n",
    "+ We observe that the duration of the contract is included in the amount of total charges. The correlation between the variables `totalcharges` and `contract` is expressed as follows:\n",
    "\n",
    "        -Corr(`totalcharges`, `Month-to-month`) = -44.67%\n",
    "        -Corr(`totalcharges`, `Two year`) = 35.80%\n",
    "        -Corr(`totalcharges`, `One year`) = 17.05%"
   ]
  },
  {
   "cell_type": "markdown",
   "id": "wooden-louisville",
   "metadata": {},
   "source": [
    "[Tabla de contenido](#Tabla-de-contenido)"
   ]
  },
  {
   "cell_type": "markdown",
   "id": "official-hartford",
   "metadata": {},
   "source": [
    "## EDA"
   ]
  },
  {
   "cell_type": "markdown",
   "id": "intellectual-duplicate",
   "metadata": {},
   "source": [
    "For this Exploratory Data Analysis we are generating four graphics.\n"
   ]
  },
  {
   "cell_type": "code",
   "execution_count": 12,
   "id": "blond-grammar",
   "metadata": {},
   "outputs": [],
   "source": [
    "from matplotlib.ticker import FuncFormatter\n",
    "\n",
    "def number_formatter(number, pos=None):\n",
    "    \"\"\"Convert a number into a human readable format.\"\"\"\n",
    "    magnitude = 0\n",
    "    while abs(number) >= 1000:\n",
    "        magnitude += 1\n",
    "        number /= 1000.0\n",
    "    return '%.1f%s' % (number, ['', 'K', 'M', 'B', 'T', 'Q'][magnitude])\n"
   ]
  },
  {
   "cell_type": "markdown",
   "id": "spare-introduction",
   "metadata": {},
   "source": [
    "### Churn"
   ]
  },
  {
   "cell_type": "code",
   "execution_count": 25,
   "id": "8af2d225",
   "metadata": {},
   "outputs": [
    {
     "data": {
      "text/plain": [
       "Text(0, 0.5, 'churn')"
      ]
     },
     "execution_count": 25,
     "metadata": {},
     "output_type": "execute_result"
    },
    {
     "data": {
      "image/png": "[encoded data removed]",
      "text/plain": [
       "<Figure size 432x288 with 1 Axes>"
      ]
     },
     "metadata": {
      "needs_background": "light"
     },
     "output_type": "display_data"
    }
   ],
   "source": [
    "%matplotlib inline\n",
    "a=sns.countplot(y=\"churn\", data=telco, palette=\"Accent\")\n",
    "a.set_title(\"Churn Telco\",fontsize=14, fontdict={\"weight\": \"bold\"})\n",
    "a.xaxis.set_major_formatter(FuncFormatter(number_formatter))\n",
    "a.set_xlabel(\"customers\")\n",
    "a.set_ylabel(\"churn\")"
   ]
  },
  {
   "cell_type": "markdown",
   "id": "disturbed-empire",
   "metadata": {},
   "source": [
    "The proportion of customers who leave Telco is more than a third of those who decide not to leave.\n",
    "\n",
    "[Content](#Content)\n"
   ]
  },
  {
   "cell_type": "markdown",
   "id": "random-respect",
   "metadata": {},
   "source": [
    "### Total Charges"
   ]
  },
  {
   "cell_type": "code",
   "execution_count": 27,
   "id": "a482e6cd",
   "metadata": {},
   "outputs": [
    {
     "data": {
      "image/png": "[encoded data removed]",
      "text/plain": [
       "<Figure size 628x288 with 1 Axes>"
      ]
     },
     "metadata": {
      "needs_background": "light"
     },
     "output_type": "display_data"
    }
   ],
   "source": [
    "%matplotlib inline\n",
    "\n",
    "b=sns.catplot(x=\"contract\", y=\"totalcharges\",\n",
    "                hue=\"churn\",\n",
    "                data=telco, kind=\"box\",\n",
    "                height=4, aspect=2, showmeans=True, palette=\"Accent\")\n",
    "b.fig.suptitle(\"Boxplot: Total charges\", fontsize=14, fontdict={\"weight\": \"bold\"})\n",
    "\n",
    "for ax in b.axes.flat:\n",
    "    ax.yaxis.set_major_formatter(tkr.FuncFormatter(number_formatter))"
   ]
  },
  {
   "cell_type": "markdown",
   "id": "cross-dominant",
   "metadata": {},
   "source": [
    "For contracts of one and two years, people who have higher charges are more likely to churn.\n",
    "\n",
    "There is a lot of variation in the behavior of the total charges of the clients according to the duration of the contract. For the month-to-month contracts, we can observe that the distributions between those who leave the company and those who stay are very similar, for both cases, the half of customers keep their total charges below 1,000; however, non-dropouts have higher mean and median total charges than people who churn. In addition, those who drop out have concentrated their total positions (three quartiles) between zero and less than 2,000.\n",
    "\n",
    "In 1-year contracts, we observe a behavior opposite to the previous case. Dropouts have higher median and average total charges. The distribution of those who leave is practically symmetrical and has a higher frequency between positions above 2,000 and 6,000; this while those who do not drop out, mostly maintain total charges between 1,000 and 5,000. The distribution of non-churners is not symmetric, with half of the non-churners keeping their total charges between 0 and less than 3,000.\n",
    "\n",
    "Lastly, in 2-year contracts, the previous behavior is accentuated even more. In abandonment, a higher average and median of total charges can be seen and a higher frequency is concentrated between 5,000 and 7,000. The distribution of non-dropouts is nearly symmetrical, with most frequent total charges between 1,000 and 6,000, an almost 3 times wider range of total charges than those who do drop out.\n",
    "\n",
    "From the graph above we can see that the longer the contract period, the more sensitive customers are to the amount of total charges.\n",
    "\n",
    "[Content](#Content)"
   ]
  },
  {
   "cell_type": "markdown",
   "id": "linear-driver",
   "metadata": {},
   "source": [
    "### Monthly Charges"
   ]
  },
  {
   "cell_type": "code",
   "execution_count": 28,
   "id": "dd7f77d2",
   "metadata": {},
   "outputs": [
    {
     "data": {
      "text/plain": [
       "Text(0.5, 0.98, 'Boxplot: Monthly Charges')"
      ]
     },
     "execution_count": 28,
     "metadata": {},
     "output_type": "execute_result"
    },
    {
     "data": {
      "image/png": "[encoded data removed]",
      "text/plain": [
       "<Figure size 628x288 with 1 Axes>"
      ]
     },
     "metadata": {
      "needs_background": "light"
     },
     "output_type": "display_data"
    }
   ],
   "source": [
    "%matplotlib inline\n",
    "\n",
    "c=sns.catplot(x=\"contract\", y=\"monthlycharges\",\n",
    "                hue=\"churn\",\n",
    "                data=telco, kind=\"box\",\n",
    "                height=4, aspect=2, showmeans=True, palette=\"Accent\")\n",
    "c.fig.suptitle(\"Boxplot: Monthly Charges\", fontsize=14, fontdict={\"weight\": \"bold\"})"
   ]
  },
  {
   "cell_type": "markdown",
   "id": "golden-garage",
   "metadata": {},
   "source": [
    "The behavior of the clients' monthly charges hardly varies between the 1-year and 2-year contracts. For the 3 types of contracts, it can be seen that the customers who churn concentrate their monthly charges in shorter intervals and with higher values. People who keep higher monthly charges are more likely to churn.\n",
    "\n",
    "For month-to-month contracts, monthly charges for non-churners are most often between 40 and 90. Monthly charges for churners are between 50 and 90, with a higher median and average. Half of those who leave have monthly charges between 80 and 120.\n",
    "\n",
    "In the 1-year and 2-year contracts, those who do not drop out have a higher frequency of monthly charges between 20 and 90. Those who do, are more frequently in a shorter interval that goes from 70 to 110.\n",
    "\n",
    "For all three contract types it is clear that customers who leave the company face higher monthly charges than those who stay with the company.\n",
    "\n",
    "[Content](#Content)"
   ]
  },
  {
   "cell_type": "code",
   "execution_count": null,
   "id": "8d3067ac",
   "metadata": {},
   "outputs": [],
   "source": [
    "### Payment Method"
   ]
  },
  {
   "cell_type": "code",
   "execution_count": 30,
   "id": "fd50d165",
   "metadata": {},
   "outputs": [
    {
     "data": {
      "image/png": "[encoded data removed]",
      "text/plain": [
       "<Figure size 1080x432 with 4 Axes>"
      ]
     },
     "metadata": {
      "needs_background": "light"
     },
     "output_type": "display_data"
    }
   ],
   "source": [
    "%matplotlib inline\n",
    "\n",
    "box_tc= sns.FacetGrid(telco, col='paymentmethod', col_wrap=2,aspect= 2.5, height=3)\n",
    "box_tc.map_dataframe(sns.boxplot,\"monthlycharges\",\"churn\",palette=\"Accent\", showmeans=True)\n",
    "box_tc.fig.suptitle(\"Boxplot:Monthly Charges\", fontsize=14, fontdict={\"weight\": \"bold\"})\n",
    "\n",
    "axes=box_tc.axes.flatten()"
   ]
  },
  {
   "cell_type": "markdown",
   "id": "hawaiian-covering",
   "metadata": {},
   "source": [
    "For all payment methods, abandonment has a higher median and average monthly charges. We can see that the intervals of monthly charges that contain more frequent customers are wider for those who do not drop out in all payment methods, except check by mail.\n",
    "\n",
    "For charges that are made automatically (bank transfer and credit card charge) the non-churning distributions are very similar. The difference is that the credit card charges include a wider range of monthly charges and these are higher. Credit card charges also have a wider range and are higher for churn customers (60 to 100), compared to automatic bank transfer customers (70 to 100).\n",
    "\n",
    "[Content](#Content)"
   ]
  },
  {
   "cell_type": "markdown",
   "id": "previous-ministry",
   "metadata": {},
   "source": [
    "### One Hot Encoding"
   ]
  },
  {
   "cell_type": "markdown",
   "id": "23d09d73",
   "metadata": {},
   "source": [
    "Our first step to perfom one hot encoding is to save the name of our 'object' variables:"
   ]
  },
  {
   "cell_type": "code",
   "execution_count": 21,
   "id": "inclusive-avenue",
   "metadata": {},
   "outputs": [],
   "source": [
    "string_variables = telco.select_dtypes(include = 'object').columns.values"
   ]
  },
  {
   "cell_type": "markdown",
   "id": "0b56f581",
   "metadata": {},
   "source": [
    "We can use an extra variable to save the values of the variables from One Hot Encoder to check later our process:"
   ]
  },
  {
   "cell_type": "code",
   "execution_count": 22,
   "id": "applicable-peninsula",
   "metadata": {},
   "outputs": [],
   "source": [
    "ohe = OneHotEncoder()\n",
    "ohe_var = []\n",
    "ohe_df = pd.DataFrame()       "
   ]
  },
  {
   "cell_type": "markdown",
   "id": "717c0550",
   "metadata": {},
   "source": [
    "Now, we can transform our data to binary variables. In the case of 'gender' we are using 1 to female and 0 to male. The column gender will be used as 'is female?' and doesn't need to be transformed using One Hot Encoding. For the rest of the variables, 1 is equal to 'yes' and One Hot Encoding will be used to transform categorical data into binary data. "
   ]
  },
  {
   "cell_type": "code",
   "execution_count": null,
   "id": "0360fdd9",
   "metadata": {},
   "outputs": [],
   "source": [
    "for i in range(len(string_variables)): \n",
    "    x = string_variables[i]\n",
    "    \n",
    "    if len(telco[x].unique()) == 2 and x == 'gender' :\n",
    "        telco[x].replace(to_replace=dict(Female=1, Male=0), inplace=True)\n",
    "    else:\n",
    "        if len(telco[x].unique()) == 2:\n",
    "            telco[x].replace(to_replace=dict(Yes=1, No=0), inplace=True)\n",
    "        else:\n",
    "            ohe_var.append(x)\n",
    "            ohe_ = ohe.fit_transform(telco[x].values.reshape(-1,1))\n",
    "            df_ohe = pd.DataFrame(list(ohe_.toarray()), columns=x+\"_\"+telco[x].unique())\n",
    "            ohe_df = pd.merge(df_ohe, ohe_df, how=\"left\", left_index=True, right_index=True)  "
   ]
  },
  {
   "cell_type": "markdown",
   "id": "8d0fb2c8",
   "metadata": {},
   "source": [
    "For each variable in which One Hot Encoding is used, the output must be N columns, where N means unique values in each column (categorial data is being transformed to binary data)."
   ]
  },
  {
   "cell_type": "code",
   "execution_count": 23,
   "id": "western-spotlight",
   "metadata": {},
   "outputs": [],
   "source": [
    "suma = 0;\n",
    "for y in ohe_var:\n",
    "    suma = suma + len(telco[y].unique())\n",
    "telco = telco.drop(columns=ohe_var)\n",
    "telco_ohe = pd.merge(telco, ohe_df, how=\"right\", left_index=True, right_index=True)"
   ]
  },
  {
   "cell_type": "markdown",
   "id": "representative-pepper",
   "metadata": {},
   "source": [
    "## Modelling\n",
    "\n",
    "We are going to train a  first model (Random Forest Classifier) with the following information:\n",
    "\n",
    "+ `random.seed` `210418`\n",
    "+ Our testing data will be 25% of our total data\n",
    "+ We are using a a tree to select the variables that provide the most information to the prediction.\n",
    "  + `random_state` `5432`\n",
    "  + Using the following hyperparameters:\n",
    "    + Depth: 5, 7, 11\n",
    "    + Leaf definition: 7, 9, 11, 13\n",
    "    + Information gain: gini and entropy\n",
    "    + Cross validation: 5\n",
    "\n",
    "\n",
    "\n",
    "+ What are the hyperparameters of the best model?\n",
    "+ Generates the ROC curve, how much AUC does it have? Interpret.\n",
    "+ Generate the Precision-Recall curve, how much `recall` do you have for a `precision` of 70%? Interpret.\n",
    "+ Generates performance metrics table\n",
    "  + What cut-off point meets the business restrictions? To 6 decimals. Interpret.\n",
    "  + What percentage of `recall` do you have at that point? Explain.\n",
    "  + What percentage of `precision` do you have at that point? Explain.\n",
    "+ Generates the confusion matrix associated with this cutoff point. Explain.\n",
    "\n",
    "[Content](#Content)"
   ]
  },
  {
   "cell_type": "markdown",
   "id": "extensive-capacity",
   "metadata": {},
   "source": [
    "### First model"
   ]
  },
  {
   "cell_type": "code",
   "execution_count": 24,
   "id": "quick-closure",
   "metadata": {},
   "outputs": [],
   "source": [
    "np.random.seed(210418)"
   ]
  },
  {
   "cell_type": "code",
   "execution_count": 25,
   "id": "discrete-faculty",
   "metadata": {},
   "outputs": [],
   "source": [
    "X = telco_ohe[['gender', 'seniorcitizen', 'partner', 'dependents',\n",
    "       'tenure', 'phoneservice', 'paperlessbilling', 'monthlycharges',\n",
    "       'totalcharges','paymentmethod_Electronic check',\n",
    "       'paymentmethod_Mailed check', 'paymentmethod_Bank transfer (automatic)',\n",
    "       'paymentmethod_Credit card (automatic)', 'contract_Month-to-month',\n",
    "       'contract_One year', 'contract_Two year', 'streamingmovies_No',\n",
    "       'streamingmovies_Yes', 'streamingmovies_No internet service',\n",
    "       'streamingtv_No', 'streamingtv_Yes', 'streamingtv_No internet service',\n",
    "       'techsupport_No', 'techsupport_Yes', 'techsupport_No internet service',\n",
    "       'deviceprotection_No', 'deviceprotection_Yes',\n",
    "       'deviceprotection_No internet service', 'onlinebackup_Yes',\n",
    "       'onlinebackup_No', 'onlinebackup_No internet service',\n",
    "       'onlinesecurity_No', 'onlinesecurity_Yes',\n",
    "       'onlinesecurity_No internet service', 'internetservice_DSL',\n",
    "       'internetservice_Fiber optic', 'internetservice_No',\n",
    "       'multiplelines_No phone service', 'multiplelines_No',\n",
    "       'multiplelines_Yes']]\n",
    "y = telco_ohe.churn"
   ]
  },
  {
   "cell_type": "code",
   "execution_count": 26,
   "id": "identified-hardware",
   "metadata": {},
   "outputs": [],
   "source": [
    "X_train, X_test, y_train, y_test = train_test_split(X, y, test_size=0.25 )"
   ]
  },
  {
   "cell_type": "code",
   "execution_count": 27,
   "id": "auburn-behavior",
   "metadata": {},
   "outputs": [],
   "source": [
    "from sklearn.model_selection import GridSearchCV\n",
    "from sklearn.ensemble import RandomForestClassifier\n",
    "import time"
   ]
  },
  {
   "cell_type": "code",
   "execution_count": 28,
   "id": "colonial-craft",
   "metadata": {},
   "outputs": [
    {
     "data": {
      "text/plain": [
       "GridSearchCV(cv=5, estimator=RandomForestClassifier(n_jobs=-1, oob_score=True),\n",
       "             n_jobs=-1,\n",
       "             param_grid={'criterion': ['gini', 'entropy'],\n",
       "                         'max_depth': [5, 7, 11],\n",
       "                         'min_samples_leaf': [7, 9, 11, 13],\n",
       "                         'random_state': [5432]},\n",
       "             return_train_score=True, scoring='recall')"
      ]
     },
     "execution_count": 28,
     "metadata": {},
     "output_type": "execute_result"
    }
   ],
   "source": [
    "grid = {'min_samples_leaf': [7,9,11,13], 'max_depth':[5,7,11],\n",
    "       'criterion':['gini','entropy'], 'random_state':[5432]}\n",
    "\n",
    "rf = RandomForestClassifier(oob_score=True, n_jobs=-1)\n",
    "gs_rf = GridSearchCV(rf, grid, cv=5, scoring='recall', return_train_score=True, n_jobs=-1)\n",
    "\n",
    "\n",
    "# Training the model\n",
    "gs_rf.fit(X_train, y_train)"
   ]
  },
  {
   "cell_type": "markdown",
   "id": "union-municipality",
   "metadata": {},
   "source": [
    "### Results\n",
    "\n",
    "With the hyperparameters\n",
    "\n",
    "+ Depth: 5, 7, 11\n",
    "+ Sheet definition: 7, 9, 11, 13\n",
    "+ Information gain: gini and entropy\n",
    "+ Cross validation: 5\n",
    "\n",
    "We are generating 3 * 4 * 2 = 24 models\n",
    "\n",
    "Considering cross validation we are generating 24 * 5 = 120 models\n",
    "\n",
    "The best model of these 120 is the one with the following hyperparameters:\n",
    "\n",
    "+ Depth: 11\n",
    "+ Blade definition: 7\n",
    "+ Criterion: gini\n",
    "+ OBB-score: 0.8"
   ]
  },
  {
   "cell_type": "code",
   "execution_count": 29,
   "id": "chemical-prescription",
   "metadata": {},
   "outputs": [
    {
     "name": "stdout",
     "output_type": "stream",
     "text": [
      "RandomForestClassifier(max_depth=11, min_samples_leaf=7, n_jobs=-1,\n",
      "                       oob_score=True, random_state=5432)\n",
      "Criterion: gini\n",
      "OBB score: 0.8083048919226393\n"
     ]
    }
   ],
   "source": [
    "print(gs_rf.best_estimator_)\n",
    "print('Criterion:',gs_rf.best_estimator_.criterion)\n",
    "print('OBB score:',gs_rf.best_estimator_.oob_score_)"
   ]
  },
  {
   "cell_type": "markdown",
   "id": "international-laser",
   "metadata": {},
   "source": [
    "The three variables that provide more information are:\n",
    "\n",
    "+ Tenure: 16.8%\n",
    "+ Total charges: 11.4%\n",
    "+ Contract month to month: 10.7%\n",
    "\n",
    "[Content](#Content)"
   ]
  },
  {
   "cell_type": "code",
   "execution_count": 30,
   "id": "greater-recipe",
   "metadata": {},
   "outputs": [
    {
     "data": {
      "text/html": [
       "<div>\n",
       "<style scoped>\n",
       "    .dataframe tbody tr th:only-of-type {\n",
       "        vertical-align: middle;\n",
       "    }\n",
       "\n",
       "    .dataframe tbody tr th {\n",
       "        vertical-align: top;\n",
       "    }\n",
       "\n",
       "    .dataframe thead th {\n",
       "        text-align: right;\n",
       "    }\n",
       "</style>\n",
       "<table border=\"1\" class=\"dataframe\">\n",
       "  <thead>\n",
       "    <tr style=\"text-align: right;\">\n",
       "      <th></th>\n",
       "      <th>feature</th>\n",
       "      <th>importance</th>\n",
       "    </tr>\n",
       "  </thead>\n",
       "  <tbody>\n",
       "    <tr>\n",
       "      <th>4</th>\n",
       "      <td>tenure</td>\n",
       "      <td>0.167934</td>\n",
       "    </tr>\n",
       "    <tr>\n",
       "      <th>8</th>\n",
       "      <td>totalcharges</td>\n",
       "      <td>0.113925</td>\n",
       "    </tr>\n",
       "    <tr>\n",
       "      <th>13</th>\n",
       "      <td>contract_Month-to-month</td>\n",
       "      <td>0.107890</td>\n",
       "    </tr>\n",
       "  </tbody>\n",
       "</table>\n",
       "</div>"
      ],
      "text/plain": [
       "                    feature  importance\n",
       "4                    tenure    0.167934\n",
       "8              totalcharges    0.113925\n",
       "13  contract_Month-to-month    0.107890"
      ]
     },
     "execution_count": 30,
     "metadata": {},
     "output_type": "execute_result"
    }
   ],
   "source": [
    "feature_importances_df = pd.DataFrame({'feature': X.columns.values, \n",
    "                                       'importance': gs_rf.best_estimator_.feature_importances_})\n",
    "feature_importances_df.sort_values(by=\"importance\", ascending=False)[0:3]"
   ]
  },
  {
   "cell_type": "markdown",
   "id": "cfe3bc66",
   "metadata": {},
   "source": [
    "We can visualize the performance of this first model by showing it's ROC (Receiver operating characteristic) curve. We should remember that an ideal ROC curve has an area under curve of 1 (AUC).\n",
    "To do this, we need to generate some predicted labels and scores with the best estimator we found in the previous step.\n",
    "Then, we can import from sklearn.metrics the modules we need and use the method 'roc_curve' that needs: \n",
    "1) The real label y_test \n",
    "\n",
    "2) The predicted scores from our best estimator \n",
    "\n",
    "The output from the roc_curve method are the False Positive Rate (FPR), True Positive Rate (TPR) and the threshold for each point in the curve."
   ]
  },
  {
   "cell_type": "code",
   "execution_count": 31,
   "id": "derived-aircraft",
   "metadata": {},
   "outputs": [
    {
     "data": {
      "image/png": "[encoded data removed]",
      "text/plain": [
       "<Figure size 432x288 with 1 Axes>"
      ]
     },
     "metadata": {
      "needs_background": "light"
     },
     "output_type": "display_data"
    }
   ],
   "source": [
    "predicted_labels_1 = gs_rf.predict(X_test)\n",
    "predicted_scores_1 = gs_rf.predict_proba(X_test)\n",
    "\n",
    " from sklearn.metrics import roc_auc_score, roc_curve \n",
    "\n",
    "fpr, tpr, thresholds = roc_curve(y_test, predicted_scores_1[:,1], pos_label=1)\n",
    "\n",
    "plt.clf()\n",
    "plt.plot([0, 1], [0, 1], 'k--', c=\"red\")\n",
    "plt.plot(fpr, tpr)\n",
    "plt.title(\"ROC best RF, AUC: {}\".format(roc_auc_score(y_test, predicted_labels_1)))\n",
    "plt.xlabel(\"fpr\")\n",
    "plt.ylabel(\"tpr\")\n",
    "plt.show()"
   ]
  },
  {
   "cell_type": "code",
   "execution_count": 32,
   "id": "maritime-future",
   "metadata": {},
   "outputs": [
    {
     "name": "stdout",
     "output_type": "stream",
     "text": [
      "0.8400557902941298\n",
      "0.6763925011281126\n"
     ]
    }
   ],
   "source": [
    "auc_1_sc = roc_auc_score(y_test, predicted_scores_1[:,1])\n",
    "print(auc_1_sc)\n",
    "auc_1_lb = roc_auc_score(y_test, predicted_labels_1)\n",
    "print(auc_1_lb)"
   ]
  },
  {
   "cell_type": "markdown",
   "id": "developed-stationery",
   "metadata": {},
   "source": [
    "The next step of this analysis will be eliminating from the data set those variable that provide less than 1% of information"
   ]
  },
  {
   "cell_type": "code",
   "execution_count": 33,
   "id": "transparent-youth",
   "metadata": {},
   "outputs": [
    {
     "name": "stdout",
     "output_type": "stream",
     "text": [
      "['seniorcitizen', 'partner', 'dependents', 'phoneservice', 'paymentmethod_Electronic check', 'paymentmethod_Mailed check', 'paymentmethod_Credit card (automatic)', 'streamingmovies_No', 'streamingmovies_Yes', 'streamingmovies_No internet service', 'streamingtv_No', 'streamingtv_Yes', 'streamingtv_No internet service', 'techsupport_Yes', 'deviceprotection_No', 'deviceprotection_Yes', 'deviceprotection_No internet service', 'onlinebackup_No', 'onlinesecurity_Yes', 'internetservice_No', 'multiplelines_No phone service', 'multiplelines_No', 'multiplelines_Yes']\n"
     ]
    }
   ],
   "source": [
    "# Para eliminar las variables que aportan menos del 1% obtenemos los nombres de dichas columnas\n",
    "select_var = feature_importances_df.loc[feature_importances_df.importance < .01]\n",
    "print(select_var.feature.values.tolist())\n",
    "cols_to_drop = select_var.feature.values.tolist()"
   ]
  },
  {
   "cell_type": "code",
   "execution_count": 34,
   "id": "bound-acrylic",
   "metadata": {},
   "outputs": [],
   "source": [
    "# Se eliminan las columnas\n",
    "X_train = X_train.drop(columns = cols_to_drop)\n",
    "X_test = X_test.drop(columns = cols_to_drop) \n",
    "y_train = y_train.drop(columns = cols_to_drop) \n",
    "y_test = y_test.drop(columns = cols_to_drop)"
   ]
  },
  {
   "cell_type": "markdown",
   "id": "downtown-render",
   "metadata": {},
   "source": [
    "### Second model\n",
    "Now we are going to perform a Random Forest with the following hyperparameters -we are not generating an X_train, X_test split since it would be generating data leakage-\n",
    "  + `random_state` of `7654`\n",
    "  + Depth: 11, 13, 15\n",
    "  + Number of trees: 500, 800, 1000\n",
    "  + Blade definition: 11, 13\n",
    "  + Information gain: gini and entropy\n",
    "  + Cross validation: 5\n",
    "\n",
    "### Data Leakage\n",
    "An X_train, X_test is not done again since we would be taking different information for this model than for the previous model, the new model would have information intended for training tests. This leads to data leakage occurring. Obtaining additional information may lead to the model learning things that it did not know before. This invalidates the expected performance of the second built model.\n",
    "\n",
    "[Content](#Content)"
   ]
  },
  {
   "cell_type": "code",
   "execution_count": 35,
   "id": "abstract-excuse",
   "metadata": {},
   "outputs": [
    {
     "data": {
      "text/plain": [
       "GridSearchCV(cv=5,\n",
       "             estimator=RandomForestClassifier(n_jobs=-1, oob_score=True,\n",
       "                                              random_state=7654),\n",
       "             n_jobs=-1,\n",
       "             param_grid={'criterion': ['gini', 'entropy'],\n",
       "                         'max_depth': [11, 13, 15],\n",
       "                         'min_samples_leaf': [11, 13],\n",
       "                         'n_estimators': [500, 800, 1000]},\n",
       "             return_train_score=True, scoring='recall')"
      ]
     },
     "execution_count": 35,
     "metadata": {},
     "output_type": "execute_result"
    }
   ],
   "source": [
    "grid = {'n_estimators': [500, 800, 1000], 'min_samples_leaf': [11, 13], 'max_depth':[11, 13, 15],\n",
    "       'criterion':['gini','entropy']}\n",
    "\n",
    "rf = RandomForestClassifier(oob_score=True, n_jobs=-1, random_state = 7654 )\n",
    "gs_rf_2 = GridSearchCV(rf, grid, cv=5, scoring='recall', return_train_score=True, n_jobs=-1)\n",
    "\n",
    "\n",
    "# Training\n",
    "gs_rf_2.fit(X_train, y_train)"
   ]
  },
  {
   "cell_type": "code",
   "execution_count": 36,
   "id": "logical-sensitivity",
   "metadata": {},
   "outputs": [
    {
     "name": "stdout",
     "output_type": "stream",
     "text": [
      "RandomForestClassifier(criterion='entropy', max_depth=15, min_samples_leaf=11,\n",
      "                       n_estimators=500, n_jobs=-1, oob_score=True,\n",
      "                       random_state=7654)\n",
      "OBB score: 0.8075464543041335\n",
      "Trees:  500\n",
      "Criterion:  entropy\n"
     ]
    }
   ],
   "source": [
    "print(gs_rf_2.best_estimator_)\n",
    "print('OBB score:',gs_rf_2.best_estimator_.oob_score_)\n",
    "print('Trees: ', gs_rf_2.best_estimator_.n_estimators)\n",
    "print('Criterion: ', gs_rf_2.best_estimator_.criterion)"
   ]
  },
  {
   "cell_type": "code",
   "execution_count": 37,
   "id": "featured-radar",
   "metadata": {},
   "outputs": [
    {
     "data": {
      "text/html": [
       "<div>\n",
       "<style scoped>\n",
       "    .dataframe tbody tr th:only-of-type {\n",
       "        vertical-align: middle;\n",
       "    }\n",
       "\n",
       "    .dataframe tbody tr th {\n",
       "        vertical-align: top;\n",
       "    }\n",
       "\n",
       "    .dataframe thead th {\n",
       "        text-align: right;\n",
       "    }\n",
       "</style>\n",
       "<table border=\"1\" class=\"dataframe\">\n",
       "  <thead>\n",
       "    <tr style=\"text-align: right;\">\n",
       "      <th></th>\n",
       "      <th>feature</th>\n",
       "      <th>importance</th>\n",
       "    </tr>\n",
       "  </thead>\n",
       "  <tbody>\n",
       "    <tr>\n",
       "      <th>1</th>\n",
       "      <td>tenure</td>\n",
       "      <td>0.164466</td>\n",
       "    </tr>\n",
       "    <tr>\n",
       "      <th>6</th>\n",
       "      <td>contract_Month-to-month</td>\n",
       "      <td>0.154898</td>\n",
       "    </tr>\n",
       "    <tr>\n",
       "      <th>4</th>\n",
       "      <td>totalcharges</td>\n",
       "      <td>0.139089</td>\n",
       "    </tr>\n",
       "  </tbody>\n",
       "</table>\n",
       "</div>"
      ],
      "text/plain": [
       "                   feature  importance\n",
       "1                   tenure    0.164466\n",
       "6  contract_Month-to-month    0.154898\n",
       "4             totalcharges    0.139089"
      ]
     },
     "execution_count": 37,
     "metadata": {},
     "output_type": "execute_result"
    }
   ],
   "source": [
    "gs_rf_2.best_estimator_.feature_importances_\n",
    "feature_importances_df = pd.DataFrame({'feature': X_train.columns.values, \n",
    "                                       'importance': gs_rf_2.best_estimator_.feature_importances_})\n",
    "\n",
    "feature_importances_df.sort_values(by=\"importance\", ascending=False)[0:3]"
   ]
  },
  {
   "cell_type": "markdown",
   "id": "driving-wound",
   "metadata": {},
   "source": [
    "### Results second model\n",
    "\n",
    "3 * 2 * 3 * 2 = 36 models are generated\n",
    "\n",
    "Considering cross validation 36 * 5 = 180 models.\n",
    "\n",
    "The best model of these 180 is the one with the following hyperparameters:\n",
    "+ Depth: 15\n",
    "+ Leaf definition: 11\n",
    "+ Number of trees: 500\n",
    "+ Criterion: entropy\n",
    "+ OBB-score: 0.8\n",
    "\n",
    "\n",
    "The root variable in this model is also `tenure` which provides about 16.44% of information. This variable quantifies the years that the client has received service from Telco. Thus, the first piece of information that allows us to classify whether or not a customer will leave the company is the years he/she has received service. Furthermore, it can be seen that abandonment has a negative correlation with the `tenure` variable; so, the longer a customer has with Telco services, the less likely they are to churn (abandon).\n",
    "\n",
    "When performing the Exploratory Data Analysis, we observed that customers who had a month-to-month contract and whose total charges were low were less likely to leave the company. So it makes sense that they are the second and third most influential variables.\n",
    "\n",
    "[Content](#Content)"
   ]
  },
  {
   "cell_type": "code",
   "execution_count": 16,
   "id": "bronze-paradise",
   "metadata": {},
   "outputs": [
    {
     "name": "stderr",
     "output_type": "stream",
     "text": [
      "C:\\Users\\Marlen\\Anaconda3\\envs\\itam_md_21\\lib\\site-packages\\ipykernel_launcher.py:3: SettingWithCopyWarning: \n",
      "A value is trying to be set on a copy of a slice from a DataFrame.\n",
      "Try using .loc[row_indexer,col_indexer] = value instead\n",
      "\n",
      "See the caveats in the documentation: https://pandas.pydata.org/pandas-docs/stable/user_guide/indexing.html#returning-a-view-versus-a-copy\n",
      "  This is separate from the ipykernel package so we can avoid doing imports until\n"
     ]
    },
    {
     "data": {
      "text/html": [
       "<div>\n",
       "<style scoped>\n",
       "    .dataframe tbody tr th:only-of-type {\n",
       "        vertical-align: middle;\n",
       "    }\n",
       "\n",
       "    .dataframe tbody tr th {\n",
       "        vertical-align: top;\n",
       "    }\n",
       "\n",
       "    .dataframe thead th {\n",
       "        text-align: right;\n",
       "    }\n",
       "</style>\n",
       "<table border=\"1\" class=\"dataframe\">\n",
       "  <thead>\n",
       "    <tr style=\"text-align: right;\">\n",
       "      <th></th>\n",
       "      <th>tenure</th>\n",
       "      <th>No</th>\n",
       "      <th>Yes</th>\n",
       "    </tr>\n",
       "  </thead>\n",
       "  <tbody>\n",
       "    <tr>\n",
       "      <th>tenure</th>\n",
       "      <td>1.000000</td>\n",
       "      <td>0.354049</td>\n",
       "      <td>-0.354049</td>\n",
       "    </tr>\n",
       "    <tr>\n",
       "      <th>No</th>\n",
       "      <td>0.354049</td>\n",
       "      <td>1.000000</td>\n",
       "      <td>-1.000000</td>\n",
       "    </tr>\n",
       "    <tr>\n",
       "      <th>Yes</th>\n",
       "      <td>-0.354049</td>\n",
       "      <td>-1.000000</td>\n",
       "      <td>1.000000</td>\n",
       "    </tr>\n",
       "  </tbody>\n",
       "</table>\n",
       "</div>"
      ],
      "text/plain": [
       "          tenure        No       Yes\n",
       "tenure  1.000000  0.354049 -0.354049\n",
       "No      0.354049  1.000000 -1.000000\n",
       "Yes    -0.354049 -1.000000  1.000000"
      ]
     },
     "execution_count": 16,
     "metadata": {},
     "output_type": "execute_result"
    }
   ],
   "source": [
    "telco_aux2 = telco[['tenure','churn']]\n",
    "for i in telco_aux2.churn.astype('category'):\n",
    "    telco_aux2[i] = telco_aux2.churn == i\n",
    "    \n",
    "telco_aux2.corr()"
   ]
  },
  {
   "cell_type": "code",
   "execution_count": 38,
   "id": "decimal-cedar",
   "metadata": {},
   "outputs": [],
   "source": [
    "# predicciones con el mejor predictor \n",
    "predicted_labels = gs_rf_2.predict(X_test)"
   ]
  },
  {
   "cell_type": "code",
   "execution_count": 39,
   "id": "arbitrary-barcelona",
   "metadata": {},
   "outputs": [],
   "source": [
    "# predicciones en score con el mejor predictor\n",
    "predicted_scores = gs_rf_2.predict_proba(X_test)"
   ]
  },
  {
   "cell_type": "code",
   "execution_count": 40,
   "id": "working-director",
   "metadata": {},
   "outputs": [
    {
     "data": {
      "text/plain": [
       "array([[0.96286255, 0.03713745],\n",
       "       [0.95928598, 0.04071402],\n",
       "       [0.91860402, 0.08139598],\n",
       "       [0.98673651, 0.01326349],\n",
       "       [0.92677924, 0.07322076],\n",
       "       [0.95565403, 0.04434597],\n",
       "       [0.96279292, 0.03720708],\n",
       "       [0.50163083, 0.49836917],\n",
       "       [0.64327572, 0.35672428],\n",
       "       [0.35565406, 0.64434594]])"
      ]
     },
     "execution_count": 40,
     "metadata": {},
     "output_type": "execute_result"
    }
   ],
   "source": [
    "predicted_scores[:10]"
   ]
  },
  {
   "cell_type": "markdown",
   "id": "compliant-principal",
   "metadata": {},
   "source": [
    "# Performance metrics\n",
    "### ROC and AUC"
   ]
  },
  {
   "cell_type": "markdown",
   "id": "legendary-attraction",
   "metadata": {},
   "source": [
    "In this section we are generating a new ROC curve for this mode as we previously made.\n",
    "\n",
    "[Content](#Content)"
   ]
  },
  {
   "cell_type": "code",
   "execution_count": 41,
   "id": "working-mountain",
   "metadata": {},
   "outputs": [
    {
     "data": {
      "image/png": "[encoded data removed]",
      "text/plain": [
       "<Figure size 432x288 with 1 Axes>"
      ]
     },
     "metadata": {
      "needs_background": "light"
     },
     "output_type": "display_data"
    }
   ],
   "source": [
    "from sklearn.metrics import roc_auc_score, roc_curve \n",
    "\n",
    "fpr, tpr, thresholds = roc_curve(y_test, predicted_scores[:,1], pos_label=1)\n",
    "\n",
    "plt.clf()\n",
    "plt.plot([0, 1], [0, 1], 'k--', c=\"red\")\n",
    "plt.plot(fpr, tpr)\n",
    "plt.title(\"ROC best RF, AUC: {}\".format(roc_auc_score(y_test, predicted_labels)))\n",
    "plt.xlabel(\"fpr\")\n",
    "plt.ylabel(\"tpr\")\n",
    "plt.show()"
   ]
  },
  {
   "cell_type": "markdown",
   "id": "north-method",
   "metadata": {},
   "source": [
    "According to the fact that we want to minimize the number of False Negatives, we are interested in the thresholds at the beginning of the curve where said rate is lower.\n",
    "The area under the curve is close to 0.69. This means that the model has a 68.9% chance of correctly predicting a positive label. We can see that this probability increased by about 1.3% compared to the first method."
   ]
  },
  {
   "cell_type": "code",
   "execution_count": 42,
   "id": "marine-helmet",
   "metadata": {},
   "outputs": [
    {
     "name": "stdout",
     "output_type": "stream",
     "text": [
      "0.840548878040776\n",
      "0.6891003815071585\n",
      "0.01270788037904591\n"
     ]
    }
   ],
   "source": [
    "auc_sc = roc_auc_score(y_test, predicted_scores[:,1])\n",
    "print(auc_sc)\n",
    "auc_lb = roc_auc_score(y_test, predicted_labels)\n",
    "print(auc_lb)\n",
    "print(auc_lb - auc_1_lb)"
   ]
  },
  {
   "cell_type": "markdown",
   "id": "chubby-pressure",
   "metadata": {},
   "source": [
    "### Precision and recall"
   ]
  },
  {
   "cell_type": "markdown",
   "id": "a0173287",
   "metadata": {},
   "source": [
    "We can also generate the Precision-Recall curve. We are interested in know how much `recall` we have for a `precision` of 70%."
   ]
  },
  {
   "cell_type": "code",
   "execution_count": 43,
   "id": "indie-fortune",
   "metadata": {},
   "outputs": [],
   "source": [
    "#### Precision, recall, thresholds\n",
    "from sklearn.metrics import precision_recall_curve\n",
    "\n",
    "precision, recall, thresholds_2 = precision_recall_curve(y_test, predicted_scores[:,1], pos_label=1)"
   ]
  },
  {
   "cell_type": "code",
   "execution_count": 44,
   "id": "confirmed-diary",
   "metadata": {},
   "outputs": [
    {
     "data": {
      "text/plain": [
       "((1708,), (1708,), (1708,))"
      ]
     },
     "execution_count": 44,
     "metadata": {},
     "output_type": "execute_result"
    }
   ],
   "source": [
    "thresholds_2 = np.append(thresholds_2, 1)\n",
    "\n",
    "(precision.shape, recall.shape, thresholds_2.shape)"
   ]
  },
  {
   "cell_type": "code",
   "execution_count": 45,
   "id": "pregnant-lotus",
   "metadata": {},
   "outputs": [
    {
     "data": {
      "text/plain": [
       "<Figure size 432x288 with 0 Axes>"
      ]
     },
     "metadata": {},
     "output_type": "display_data"
    },
    {
     "data": {
      "image/png": "[encoded data removed]",
      "text/plain": [
       "<Figure size 432x288 with 1 Axes>"
      ]
     },
     "metadata": {
      "needs_background": "light"
     },
     "output_type": "display_data"
    }
   ],
   "source": [
    "from sklearn.metrics import plot_precision_recall_curve\n",
    "\n",
    "plt.clf()\n",
    "plot_precision_recall_curve(gs_rf_2, X_test, y_test)\n",
    "plt.title(\"Precision-recall curve\")\n",
    "plt.xlabel(\"recall\")\n",
    "plt.ylabel(\"precision\")\n",
    "plt.show()"
   ]
  },
  {
   "cell_type": "code",
   "execution_count": 46,
   "id": "cheap-ranch",
   "metadata": {},
   "outputs": [],
   "source": [
    "def get_metrics_report(fpr, tpr, thresholds, precision, recall, thresholds_2):\n",
    "    df_1 = pd.DataFrame({'threshold': thresholds_2,'precision': precision,\n",
    "                    'recall': recall})\n",
    "    df_1['f1_score'] = 2 * (df_1.precision * df_1.recall) / (df_1.precision + df_1.recall)\n",
    "    \n",
    "    df_2 = pd.DataFrame({'tpr': tpr, 'fpr': fpr, 'threshold': thresholds})\n",
    "    df_2['tnr'] = 1 - df_2['fpr']\n",
    "    df_2['fnr'] = 1 - df_2['tpr']\n",
    "    \n",
    "    df = df_1.merge(df_2, on=\"threshold\")\n",
    "    \n",
    "    return df"
   ]
  },
  {
   "cell_type": "code",
   "execution_count": 47,
   "id": "pointed-terrace",
   "metadata": {},
   "outputs": [],
   "source": [
    "metrics_report = get_metrics_report(fpr, tpr, thresholds, precision, recall, thresholds_2)"
   ]
  },
  {
   "cell_type": "markdown",
   "id": "consistent-education",
   "metadata": {},
   "source": [
    "For a precision level close to 70%, there is a recall of approximately 33%. This means that our model is efficient at predicting positive labels, so when it predicts a label it is unlikely to be wrong. On the other hand, the coverage, represented by the recall, is low, that is, it has a high level of false negatives."
   ]
  },
  {
   "cell_type": "code",
   "execution_count": 48,
   "id": "judicial-earthquake",
   "metadata": {},
   "outputs": [
    {
     "data": {
      "text/html": [
       "<div>\n",
       "<style scoped>\n",
       "    .dataframe tbody tr th:only-of-type {\n",
       "        vertical-align: middle;\n",
       "    }\n",
       "\n",
       "    .dataframe tbody tr th {\n",
       "        vertical-align: top;\n",
       "    }\n",
       "\n",
       "    .dataframe thead th {\n",
       "        text-align: right;\n",
       "    }\n",
       "</style>\n",
       "<table border=\"1\" class=\"dataframe\">\n",
       "  <thead>\n",
       "    <tr style=\"text-align: right;\">\n",
       "      <th></th>\n",
       "      <th>threshold</th>\n",
       "      <th>precision</th>\n",
       "      <th>recall</th>\n",
       "      <th>f1_score</th>\n",
       "      <th>tpr</th>\n",
       "      <th>fpr</th>\n",
       "      <th>tnr</th>\n",
       "      <th>fnr</th>\n",
       "    </tr>\n",
       "  </thead>\n",
       "  <tbody>\n",
       "    <tr>\n",
       "      <th>402</th>\n",
       "      <td>0.588070</td>\n",
       "      <td>0.700893</td>\n",
       "      <td>0.330526</td>\n",
       "      <td>0.449213</td>\n",
       "      <td>0.330526</td>\n",
       "      <td>0.052221</td>\n",
       "      <td>0.947779</td>\n",
       "      <td>0.669474</td>\n",
       "    </tr>\n",
       "    <tr>\n",
       "      <th>404</th>\n",
       "      <td>0.589150</td>\n",
       "      <td>0.702703</td>\n",
       "      <td>0.328421</td>\n",
       "      <td>0.447633</td>\n",
       "      <td>0.328421</td>\n",
       "      <td>0.051442</td>\n",
       "      <td>0.948558</td>\n",
       "      <td>0.671579</td>\n",
       "    </tr>\n",
       "    <tr>\n",
       "      <th>406</th>\n",
       "      <td>0.591906</td>\n",
       "      <td>0.703704</td>\n",
       "      <td>0.320000</td>\n",
       "      <td>0.439942</td>\n",
       "      <td>0.320000</td>\n",
       "      <td>0.049883</td>\n",
       "      <td>0.950117</td>\n",
       "      <td>0.680000</td>\n",
       "    </tr>\n",
       "    <tr>\n",
       "      <th>407</th>\n",
       "      <td>0.592029</td>\n",
       "      <td>0.700935</td>\n",
       "      <td>0.315789</td>\n",
       "      <td>0.435414</td>\n",
       "      <td>0.315789</td>\n",
       "      <td>0.049883</td>\n",
       "      <td>0.950117</td>\n",
       "      <td>0.684211</td>\n",
       "    </tr>\n",
       "    <tr>\n",
       "      <th>408</th>\n",
       "      <td>0.593083</td>\n",
       "      <td>0.710900</td>\n",
       "      <td>0.315789</td>\n",
       "      <td>0.437318</td>\n",
       "      <td>0.315789</td>\n",
       "      <td>0.047545</td>\n",
       "      <td>0.952455</td>\n",
       "      <td>0.684211</td>\n",
       "    </tr>\n",
       "    <tr>\n",
       "      <th>...</th>\n",
       "      <td>...</td>\n",
       "      <td>...</td>\n",
       "      <td>...</td>\n",
       "      <td>...</td>\n",
       "      <td>...</td>\n",
       "      <td>...</td>\n",
       "      <td>...</td>\n",
       "      <td>...</td>\n",
       "    </tr>\n",
       "    <tr>\n",
       "      <th>493</th>\n",
       "      <td>0.873024</td>\n",
       "      <td>0.866667</td>\n",
       "      <td>0.027368</td>\n",
       "      <td>0.053061</td>\n",
       "      <td>0.027368</td>\n",
       "      <td>0.001559</td>\n",
       "      <td>0.998441</td>\n",
       "      <td>0.972632</td>\n",
       "    </tr>\n",
       "    <tr>\n",
       "      <th>494</th>\n",
       "      <td>0.879738</td>\n",
       "      <td>0.928571</td>\n",
       "      <td>0.027368</td>\n",
       "      <td>0.053170</td>\n",
       "      <td>0.027368</td>\n",
       "      <td>0.000779</td>\n",
       "      <td>0.999221</td>\n",
       "      <td>0.972632</td>\n",
       "    </tr>\n",
       "    <tr>\n",
       "      <th>495</th>\n",
       "      <td>0.887022</td>\n",
       "      <td>0.916667</td>\n",
       "      <td>0.023158</td>\n",
       "      <td>0.045175</td>\n",
       "      <td>0.023158</td>\n",
       "      <td>0.000779</td>\n",
       "      <td>0.999221</td>\n",
       "      <td>0.976842</td>\n",
       "    </tr>\n",
       "    <tr>\n",
       "      <th>496</th>\n",
       "      <td>0.894180</td>\n",
       "      <td>1.000000</td>\n",
       "      <td>0.023158</td>\n",
       "      <td>0.045267</td>\n",
       "      <td>0.023158</td>\n",
       "      <td>0.000000</td>\n",
       "      <td>1.000000</td>\n",
       "      <td>0.976842</td>\n",
       "    </tr>\n",
       "    <tr>\n",
       "      <th>497</th>\n",
       "      <td>0.936518</td>\n",
       "      <td>1.000000</td>\n",
       "      <td>0.002105</td>\n",
       "      <td>0.004202</td>\n",
       "      <td>0.002105</td>\n",
       "      <td>0.000000</td>\n",
       "      <td>1.000000</td>\n",
       "      <td>0.997895</td>\n",
       "    </tr>\n",
       "  </tbody>\n",
       "</table>\n",
       "<p>94 rows × 8 columns</p>\n",
       "</div>"
      ],
      "text/plain": [
       "     threshold  precision    recall  f1_score       tpr       fpr       tnr  \\\n",
       "402   0.588070   0.700893  0.330526  0.449213  0.330526  0.052221  0.947779   \n",
       "404   0.589150   0.702703  0.328421  0.447633  0.328421  0.051442  0.948558   \n",
       "406   0.591906   0.703704  0.320000  0.439942  0.320000  0.049883  0.950117   \n",
       "407   0.592029   0.700935  0.315789  0.435414  0.315789  0.049883  0.950117   \n",
       "408   0.593083   0.710900  0.315789  0.437318  0.315789  0.047545  0.952455   \n",
       "..         ...        ...       ...       ...       ...       ...       ...   \n",
       "493   0.873024   0.866667  0.027368  0.053061  0.027368  0.001559  0.998441   \n",
       "494   0.879738   0.928571  0.027368  0.053170  0.027368  0.000779  0.999221   \n",
       "495   0.887022   0.916667  0.023158  0.045175  0.023158  0.000779  0.999221   \n",
       "496   0.894180   1.000000  0.023158  0.045267  0.023158  0.000000  1.000000   \n",
       "497   0.936518   1.000000  0.002105  0.004202  0.002105  0.000000  1.000000   \n",
       "\n",
       "          fnr  \n",
       "402  0.669474  \n",
       "404  0.671579  \n",
       "406  0.680000  \n",
       "407  0.684211  \n",
       "408  0.684211  \n",
       "..        ...  \n",
       "493  0.972632  \n",
       "494  0.972632  \n",
       "495  0.976842  \n",
       "496  0.976842  \n",
       "497  0.997895  \n",
       "\n",
       "[94 rows x 8 columns]"
      ]
     },
     "execution_count": 48,
     "metadata": {},
     "output_type": "execute_result"
    }
   ],
   "source": [
    "prec_recall = metrics_report[metrics_report.precision >= 0.7]\n",
    "prec_recall"
   ]
  },
  {
   "cell_type": "markdown",
   "id": "virtual-remark",
   "metadata": {},
   "source": [
    "### Metrics report"
   ]
  },
  {
   "cell_type": "markdown",
   "id": "tropical-digest",
   "metadata": {},
   "source": [
    "In order to make a model to predict if a customer will churn or not (abandon) we will restrict it with the condition that this model cannot have more than 2% errors according to the positive label."
   ]
  },
  {
   "cell_type": "code",
   "execution_count": 49,
   "id": "exempt-entertainment",
   "metadata": {},
   "outputs": [],
   "source": [
    "negocio = metrics_report[metrics_report.fpr <= 0.02]"
   ]
  },
  {
   "cell_type": "code",
   "execution_count": 50,
   "id": "random-spirituality",
   "metadata": {},
   "outputs": [
    {
     "data": {
      "text/plain": [
       "0.6724440383795176"
      ]
     },
     "execution_count": 50,
     "metadata": {},
     "output_type": "execute_result"
    }
   ],
   "source": [
    "punto_corte = negocio.head(1).threshold.values[0]\n",
    "punto_corte"
   ]
  },
  {
   "cell_type": "code",
   "execution_count": 51,
   "id": "tested-leadership",
   "metadata": {},
   "outputs": [
    {
     "data": {
      "text/plain": [
       "[0, 0, 0, 0, 0, 0, 0, 0, 0, 0]"
      ]
     },
     "execution_count": 51,
     "metadata": {},
     "output_type": "execute_result"
    }
   ],
   "source": [
    "labels_threshold = [0 if score < punto_corte else 1 for score in predicted_scores[:,1]]\n",
    "labels_threshold[:10]"
   ]
  },
  {
   "cell_type": "code",
   "execution_count": 52,
   "id": "choice-region",
   "metadata": {},
   "outputs": [
    {
     "data": {
      "text/plain": [
       "118"
      ]
     },
     "execution_count": 52,
     "metadata": {},
     "output_type": "execute_result"
    }
   ],
   "source": [
    "labels_w_threshold = pd.Series(labels_threshold)\n",
    "labels_w_threshold.sum()"
   ]
  },
  {
   "cell_type": "code",
   "execution_count": 53,
   "id": "appropriate-cutting",
   "metadata": {},
   "outputs": [
    {
     "data": {
      "text/plain": [
       "882     0\n",
       "4033    0\n",
       "202     0\n",
       "2978    0\n",
       "1043    0\n",
       "Name: churn, dtype: int64"
      ]
     },
     "execution_count": 53,
     "metadata": {},
     "output_type": "execute_result"
    }
   ],
   "source": [
    "y_labels = pd.Series(y_test)\n",
    "y_labels.head()"
   ]
  },
  {
   "cell_type": "markdown",
   "id": "informative-clause",
   "metadata": {},
   "source": [
    "### Confusion matrix"
   ]
  },
  {
   "cell_type": "markdown",
   "id": "da0e8e48",
   "metadata": {},
   "source": [
    "Finally, we can show the confusion matrix of this final model in its cut-off point and for the predictions made."
   ]
  },
  {
   "cell_type": "code",
   "execution_count": 54,
   "id": "greatest-timer",
   "metadata": {
    "scrolled": true
   },
   "outputs": [
    {
     "data": {
      "text/plain": [
       "array([[1259,   24],\n",
       "       [ 381,   94]], dtype=int64)"
      ]
     },
     "execution_count": 54,
     "metadata": {},
     "output_type": "execute_result"
    }
   ],
   "source": [
    "from sklearn.metrics import confusion_matrix\n",
    "confusion_matrix(y_test, labels_threshold)"
   ]
  },
  {
   "cell_type": "code",
   "execution_count": 55,
   "id": "seeing-position",
   "metadata": {},
   "outputs": [
    {
     "data": {
      "text/plain": [
       "Text(0.5, 1.0, 'Matriz de confusión: punto de corte')"
      ]
     },
     "execution_count": 55,
     "metadata": {},
     "output_type": "execute_result"
    },
    {
     "data": {
      "image/png": "[encoded data removed]",
      "text/plain": [
       "<Figure size 432x288 with 2 Axes>"
      ]
     },
     "metadata": {
      "needs_background": "light"
     },
     "output_type": "display_data"
    }
   ],
   "source": [
    "cf_matrix=confusion_matrix(y_test, labels_threshold)\n",
    "group_names = ['True Neg','False Pos','False Neg','True Pos']\n",
    "group_counts = [\"{0:0.0f}\".format(value) for value in\n",
    "                cf_matrix.flatten()]\n",
    "group_percentages = [\"{0:.2%}\".format(value) for value in\n",
    "                     cf_matrix.flatten()/np.sum(cf_matrix)]\n",
    "labels = [f\"{v1}\\n{v2}\\n{v3}\" for v1, v2, v3 in\n",
    "          zip(group_names,group_counts,group_percentages)]\n",
    "labels = np.asarray(labels).reshape(2,2)\n",
    "sns.heatmap(cf_matrix, annot=labels, fmt='', cmap='Blues')\n",
    "plt.title(\"Matriz de confusión: punto de corte\", fontsize =16)"
   ]
  },
  {
   "cell_type": "code",
   "execution_count": 56,
   "id": "faced-cloud",
   "metadata": {},
   "outputs": [
    {
     "data": {
      "text/plain": [
       "Text(0.5, 1.0, 'Matriz de confusión: predicciones')"
      ]
     },
     "execution_count": 56,
     "metadata": {},
     "output_type": "execute_result"
    },
    {
     "data": {
      "image/png": "[encoded data removed]",
      "text/plain": [
       "<Figure size 432x288 with 2 Axes>"
      ]
     },
     "metadata": {
      "needs_background": "light"
     },
     "output_type": "display_data"
    }
   ],
   "source": [
    "##Matriz de confusión con las predicciones\n",
    "cf_matrix_2=confusion_matrix(y_test, predicted_labels)\n",
    "group_names = ['True Neg','False Pos','False Neg','True Pos']\n",
    "group_counts = [\"{0:0.0f}\".format(value) for value in\n",
    "                cf_matrix_2.flatten()]\n",
    "group_percentages = [\"{0:.2%}\".format(value) for value in\n",
    "                     cf_matrix_2.flatten()/np.sum(cf_matrix_2)]\n",
    "labels = [f\"{v1}\\n{v2}\\n{v3}\" for v1, v2, v3 in\n",
    "          zip(group_names,group_counts,group_percentages)]\n",
    "labels = np.asarray(labels).reshape(2,2)\n",
    "sns.heatmap(cf_matrix_2, annot=labels, fmt='', cmap='Oranges')\n",
    "plt.title(\"Matriz de confusión: predicciones\", fontsize =16)"
   ]
  },
  {
   "cell_type": "markdown",
   "id": "illegal-field",
   "metadata": {},
   "source": [
    "From the confusion matrix at the cutoff point we can see that the number of `True Negatives` is quite high and the number of `False Negatives` is small in comparison, although it is not negligible, since the business interpretation is that it could not taking the required strategy with 21.67% of the clients; a high percentage would be ignored, with real intentions of abandoning Telco.\n",
    "\n",
    "The model at the cut-off point required by business predicts that there will be Telco abandonment with 6.72% of clients (although it is correct with only 5.35%), out of a total abandonment of 27.02% according to historical data.\n",
    "\n",
    "In the confusion matrix using `predicted_labels` we see similar performance. The hit rate with `True Negatives` decreases a bit and `False Positives` increases. The model said tha 18.71% of the clients would churn and it was correct with 12.51%. However, there were actually 27.02% of customers who did churn and within this percentage, the model mislabeled 14.51% as churn customers, which Telco could ignore because the model said they were not churn. and for which a retention strategy would not be carried out."
   ]
  },
  {
   "cell_type": "markdown",
   "id": "happy-standard",
   "metadata": {},
   "source": [
    "[Content](#Content)"
   ]
  },
  {
   "cell_type": "code",
   "execution_count": null,
   "id": "4a07cb3b",
   "metadata": {},
   "outputs": [],
   "source": []
  }
 ],
 "metadata": {
  "kernelspec": {
   "display_name": "Python 3 (ipykernel)",
   "language": "python",
   "name": "python3"
  },
  "language_info": {
   "codemirror_mode": {
    "name": "ipython",
    "version": 3
   },
   "file_extension": ".py",
   "mimetype": "text/x-python",
   "name": "python",
   "nbconvert_exporter": "python",
   "pygments_lexer": "ipython3",
   "version": "3.10.2"
  }
 },
 "nbformat": 4,
 "nbformat_minor": 5
}
